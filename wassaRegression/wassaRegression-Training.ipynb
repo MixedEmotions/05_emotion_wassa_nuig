{
 "cells": [
  {
   "cell_type": "markdown",
   "metadata": {},
   "source": [
    "# Training Regression on wassa data"
   ]
  },
  {
   "cell_type": "code",
   "execution_count": 36,
   "metadata": {
    "collapsed": true
   },
   "outputs": [],
   "source": [
    "emoNames = ['anger','fear','joy','sadness']\n",
    "# emoNames_hashTag = ['sadness', 'disgust', 'surprise', 'anger', 'fear', 'joy']"
   ]
  },
  {
   "cell_type": "code",
   "execution_count": 37,
   "metadata": {
    "collapsed": false
   },
   "outputs": [],
   "source": [
    "from nltk.tokenize import TweetTokenizer\n",
    "import nltk.tokenize.casual as casual\n",
    "from drevicko.twitter_regexes import cleanString, setupRegexes, tweetPreprocessor\n",
    "import preprocess_twitter\n",
    "\n",
    "def preprocess_tweet(text):    \n",
    "    text = casual.reduce_lengthening(text)\n",
    "    text = cleanString(setupRegexes('twitterProAna'),text)   \n",
    "    text = ' '.join([span for notentity,span in tweetPreprocessor(text, (\"urls\", \"users\", \"lists\")) if notentity])\n",
    "    text = text.replace('\\t','')\n",
    "    text = text.replace('< ','<').replace(' >','>')\n",
    "    text = text.replace('):', '<sadface>').replace('(:', '<smile>')\n",
    "    text = text.replace(\" 't\", \"t\").replace('#','')\n",
    "    return text\n",
    "\n",
    "def tokenise_tweet(text):\n",
    "    text = preprocess_twitter.tokenize(text)\n",
    "    text = preprocess_tweet(text)     \n",
    "    return ' '.join(text.split())\n",
    "\n",
    "tokenise_tweet.regexes = setupRegexes('twitterProAna')"
   ]
  },
  {
   "cell_type": "code",
   "execution_count": 38,
   "metadata": {
    "collapsed": false
   },
   "outputs": [],
   "source": [
    "import subprocess\n",
    "\n",
    "datasetList = ['http://saifmohammad.com/WebDocs/EmoInt%20Train%20Data/anger-ratings-0to1.train.txt',\n",
    "'http://saifmohammad.com/WebDocs/EmoInt%20Train%20Data/fear-ratings-0to1.train.txt',\n",
    "'http://saifmohammad.com/WebDocs/EmoInt%20Train%20Data/joy-ratings-0to1.train.txt',\n",
    "'http://saifmohammad.com/WebDocs/EmoInt%20Train%20Data/sadness-ratings-0to1.train.txt',\n",
    "'http://saifmohammad.com/WebDocs/EmoInt%20Dev%20Data%20With%20Gold/anger-ratings-0to1.dev.gold.txt',\n",
    "'http://saifmohammad.com/WebDocs/EmoInt%20Dev%20Data%20With%20Gold/fear-ratings-0to1.dev.gold.txt',\n",
    "'http://saifmohammad.com/WebDocs/EmoInt%20Dev%20Data%20With%20Gold/joy-ratings-0to1.dev.gold.txt',\n",
    "'http://saifmohammad.com/WebDocs/EmoInt%20Dev%20Data%20With%20Gold/sadness-ratings-0to1.dev.gold.txt',\n",
    "'http://saifmohammad.com/WebDocs/EmoInt%20Test%20Gold%20Data/anger-ratings-0to1.test.gold.txt',\n",
    "'http://saifmohammad.com/WebDocs/EmoInt%20Test%20Gold%20Data/fear-ratings-0to1.test.gold.txt',\n",
    "'http://saifmohammad.com/WebDocs/EmoInt%20Test%20Gold%20Data/joy-ratings-0to1.test.gold.txt',\n",
    "'http://saifmohammad.com/WebDocs/EmoInt%20Test%20Gold%20Data/sadness-ratings-0to1.test.gold.txt']\n",
    "\n",
    "# subprocess.run( ['wget'] + datasetList, stdout=subprocess.PIPE )"
   ]
  },
  {
   "cell_type": "code",
   "execution_count": 39,
   "metadata": {
    "collapsed": false
   },
   "outputs": [
    {
     "name": "stdout",
     "output_type": "stream",
     "text": [
      "dev.joy \t79\t</home/vlaand/IpythonNotebooks/wassa2017/data/joy-ratings-0to1.dev.gold.txt>\n",
      "test.fear \t995\t</home/vlaand/IpythonNotebooks/wassa2017/data/fear-ratings-0to1.test.gold.txt>\n",
      "dev.fear \t110\t</home/vlaand/IpythonNotebooks/wassa2017/data/fear-ratings-0to1.dev.gold.txt>\n",
      "train.fear \t1147\t</home/vlaand/IpythonNotebooks/wassa2017/data/fear-ratings-0to1.train.txt>\n",
      "dev.anger \t84\t</home/vlaand/IpythonNotebooks/wassa2017/data/anger-ratings-0to1.dev.gold.txt>\n",
      "test.anger \t760\t</home/vlaand/IpythonNotebooks/wassa2017/data/anger-ratings-0to1.test.gold.txt>\n",
      "dev.sadness \t74\t</home/vlaand/IpythonNotebooks/wassa2017/data/sadness-ratings-0to1.dev.gold.txt>\n",
      "train.sadness \t786\t</home/vlaand/IpythonNotebooks/wassa2017/data/sadness-ratings-0to1.train.txt>\n",
      "train.joy \t823\t</home/vlaand/IpythonNotebooks/wassa2017/data/joy-ratings-0to1.train.txt>\n",
      "test.sadness \t673\t</home/vlaand/IpythonNotebooks/wassa2017/data/sadness-ratings-0to1.test.gold.txt>\n",
      "test.joy \t714\t</home/vlaand/IpythonNotebooks/wassa2017/data/joy-ratings-0to1.test.gold.txt>\n",
      "train.anger \t857\t</home/vlaand/IpythonNotebooks/wassa2017/data/anger-ratings-0to1.train.txt>\n"
     ]
    }
   ],
   "source": [
    "import os\n",
    "import pandas as pd\n",
    "\n",
    "def _read_csv_data(filename = \"data.csv\", header=True, columns=['id','tweet','emotion','label']):\n",
    "    \n",
    "    df = pd.DataFrame(pd.read_csv(filepath_or_buffer = filename,sep='\\t',header=None))\n",
    "    df.columns = columns\n",
    "    \n",
    "    tweets_list = []    \n",
    "    for index, row in enumerate(df.iterrows()): \n",
    "        tweets_list.append(tokenise_tweet(row[1]['tweet']))     \n",
    "    df['tweet'] = tweets_list\n",
    "\n",
    "    return df\n",
    "\n",
    "def get_input_files(directory):\n",
    "    \n",
    "    filenames_array = [filenames for root, dirnames, filenames in os.walk(directory)]\n",
    "    files  = [val for sublist in filenames_array for val in sublist]\n",
    "    \n",
    "    return [\"%s/%s\" %(directory, file) for file in files if file.endswith(\".txt\")]\n",
    "\n",
    "def _get_dfs(directory):\n",
    "    dfs_train, dfs_test, dfs_dev = {},{},{}\n",
    "    \n",
    "    for dir in get_input_files(directory):\n",
    "\n",
    "        for emo in emoNames:\n",
    "            if emo in dir:\n",
    "                if 'train' in dir:\n",
    "                    dfs_train.update( {emo : _read_csv_data(dir)} )                \n",
    "                    print('train.'+emo+' \\t' + str(len(dfs_train[emo])) + '\\t<' + dir + '>')\n",
    "                elif 'test.gold' in dir:\n",
    "                    dfs_test.update( {emo : _read_csv_data(dir)} )                \n",
    "                    print('test.'+emo+' \\t' + str(len(dfs_test[emo])) + '\\t<' + dir + '>')\n",
    "                elif 'dev.gold' in dir:\n",
    "                    dfs_dev.update( {emo : _read_csv_data(dir)} )                \n",
    "                    print('dev.'+emo+' \\t' + str(len(dfs_dev[emo])) + '\\t<' + dir + '>')\n",
    "                \n",
    "    return {'train':dfs_train, 'test':dfs_test, 'dev':dfs_dev}\n",
    "\n",
    "dfs = _get_dfs('/home/vlaand/IpythonNotebooks/wassa2017/data')    "
   ]
  },
  {
   "cell_type": "code",
   "execution_count": 20,
   "metadata": {
    "collapsed": false
   },
   "outputs": [],
   "source": [
    "# for row in dfs['dev']['sadness'].iterrows():\n",
    "#     print(row[1][1])"
   ]
  },
  {
   "cell_type": "code",
   "execution_count": 35,
   "metadata": {
    "collapsed": false
   },
   "outputs": [
    {
     "name": "stdout",
     "output_type": "stream",
     "text": [
      "174 0 174 1193514\n"
     ]
    }
   ],
   "source": [
    "# stop_words = get_stop_words('en')\n",
    "\n",
    "x,y = 0,0\n",
    "\n",
    "for i in stop_words:\n",
    "    i = ''.join(i.split(\"'\"))\n",
    "    try:\n",
    "        Dictionary[i]\n",
    "        x+=1\n",
    "    except:\n",
    "        print(i)\n",
    "        y+=1\n",
    "        \n",
    "print(x,y,len(stop_words),len(Dictionary))"
   ]
  },
  {
   "cell_type": "markdown",
   "metadata": {},
   "source": [
    "## WORD FREQUENCIES"
   ]
  },
  {
   "cell_type": "code",
   "execution_count": 42,
   "metadata": {
    "collapsed": false
   },
   "outputs": [],
   "source": [
    "from collections import Counter\n",
    "from stop_words import get_stop_words\n",
    "WORD_FREQUENCY_TRESHOLD = 2\n",
    "\n",
    "import os\n",
    "from sklearn.externals import joblib\n",
    "\n",
    "\n",
    "def ifExists(filename):\n",
    "    dir = os.path.dirname(filename)\n",
    "    try:\n",
    "        os.stat(dir)\n",
    "    except:\n",
    "        os.mkdir(dir) \n",
    "        \n",
    "def checkFolder(filename):\n",
    "    dir = os.path.dirname(filename)\n",
    "    try:\n",
    "        os.stat(dir)\n",
    "    except:\n",
    "        os.mkdir(dir) \n",
    "\n",
    "def _get_unique_tokens(tweets):    \n",
    "    return(Counter(token for tweet in tweets for token in tweet.split()))\n",
    "\n",
    "def _save_unique_tokens(tokens, filename='wordFrequencies.dump'):\n",
    "    \n",
    "    checkFolder(filename)\n",
    "    _ = joblib.dump(tokens, filename=filename, compress=9)\n",
    "    \n",
    "\n",
    "def _plot_word_frequencies(wordFrequencies, WORD_FREQUENCY_TRESHOLD = 3):\n",
    "    \n",
    "    freqs = []\n",
    "    for t,c in wordFrequencies.items():\n",
    "        freqs.append(c)\n",
    "        \n",
    "    q = 0\n",
    "    for t,c in wordFrequencies.items():\n",
    "        if(c >= WORD_FREQUENCY_TRESHOLD):\n",
    "            q+=1\n",
    "    print(q, len(wordFrequencies))\n",
    "    %pylab inline\n",
    "    semilogy(arange(len(freqs)),sorted(freqs))\n",
    "    show()\n",
    "    \n",
    "\n",
    "def _reduce_text(text, LANGUAGE='en', WORD_FREQUENCY_TRESHOLD = 3):    \n",
    "\n",
    "    stop_words = get_stop_words(LANGUAGE)\n",
    "\n",
    "    tweets_reduced = []\n",
    "\n",
    "    for tw in tweets:\n",
    "        tweet_r = []\n",
    "        for token in tw.split():\n",
    "            if(wordFrequencies[token] >= WORD_FREQUENCY_TRESHOLD):\n",
    "                if(not token in stop_words):\n",
    "                    tweet_r.append(token)\n",
    "\n",
    "        tweets_reduced.append( ' '.join(tweet_r)  )\n",
    "        \n",
    "    return(tweets_reduced)"
   ]
  },
  {
   "cell_type": "markdown",
   "metadata": {},
   "source": [
    "# Let the fun begin!"
   ]
  },
  {
   "cell_type": "code",
   "execution_count": 43,
   "metadata": {
    "collapsed": false
   },
   "outputs": [],
   "source": [
    "import numpy as np\n",
    "\n",
    "seed = 1337\n",
    "np.random.seed(seed)\n",
    "\n",
    "# maxlen = 65\n",
    "maxlen = 55\n",
    "batch_size = 32\n",
    "EMBEDDINGS_DIM = 100\n",
    "nb_epoch = 50\n",
    "\n",
    "hidden_dims1 = 50\n",
    "hidden_dims2 = 25\n",
    "hidden_dims3 = 3\n",
    "\n",
    "path = '/home/vlaand/wassa2017'\n",
    "\n",
    "_path_wordembeddings = '/home/vlaand/data/Glove/glove.twitter.27B/glove.twitter.27B.'+str(EMBEDDINGS_DIM)+'d.txt'"
   ]
  },
  {
   "cell_type": "markdown",
   "metadata": {},
   "source": [
    "### Load training data and word embeddinbgs"
   ]
  },
  {
   "cell_type": "code",
   "execution_count": 44,
   "metadata": {
    "collapsed": false
   },
   "outputs": [],
   "source": [
    "import numpy as np\n",
    "import pandas as pd\n",
    "import csv\n",
    "\n",
    "from keras.preprocessing import sequence\n",
    "from keras.utils.np_utils import to_categorical\n",
    "from keras.models import Sequential\n",
    "from keras.layers import Dense, Activation, Embedding, Bidirectional, Dropout, LSTM\n",
    "from keras.regularizers import l2\n",
    "\n",
    "from imblearn.over_sampling import RandomOverSampler\n",
    "# from sklearn.model_selection import StratifiedKFold\n",
    "\n",
    "def _read_csv_data(filename = \"data.csv\", header=True):\n",
    "    \n",
    "    df = pd.read_csv(filepath_or_buffer = filename)     \n",
    "    print('data loaded from <'+filename+'>')\n",
    "    print('\\t'+str(len(df))+' entries')    \n",
    "    \n",
    "    tweets_list = []    \n",
    "    for row in df.iterrows():\n",
    "        tweets_list.append([tokenise_tweet(row[1]['tweet'])] +[row[1][emo]for emo in emoNames])   \n",
    "    return tweets_list\n",
    "\n",
    "def _read_csv_we(filename = \"data.csv\"):\n",
    "    \n",
    "    embedding_index = {}\n",
    "\n",
    "    for row in pd.read_csv(filepath_or_buffer=filename, sep = ' ', header=None).iterrows():\n",
    "        word, coefs = row[1][0], np.asarray(row[1][1:])\n",
    "        embedding_index[word] = coefs\n",
    "        \n",
    "    print('we vectors loaded from <'+filename+'>')\n",
    "    print('\\t'+str(len(embedding_index))+'\\tentries')    \n",
    "        \n",
    "    return embedding_index\n",
    "\n",
    "\n",
    "def _load_original_vectors(filename = 'wordvectors-glove.twitter.27B.100d.txt', sep = ' ', wordFrequencies = None):\n",
    "\n",
    "    Dictionary, Indices  = {},{}\n",
    "    i=1\n",
    "    \n",
    "    for line in open(filename, 'rb'): \n",
    "        values = line.decode('utf-8').split(sep)\n",
    "        \n",
    "        token = values[0]\n",
    "        token_vector = np.array(values[1:], dtype = 'float32')   \n",
    "        if(wordFrequencies):\n",
    "            if(token in wordFrequencies):                \n",
    "                Dictionary[token] = token_vector\n",
    "                Indices.update({token:i})\n",
    "                i+=1\n",
    "        else:\n",
    "            Dictionary[token] = token_vector\n",
    "            Indices.update({token:i})\n",
    "            i+=1\n",
    "            \n",
    "    print('we vectors loaded from <'+filename+'>')\n",
    "    print('\\t'+str(len(Dictionary))+' entries') \n",
    "    return(Dictionary, Indices)\n",
    "\n",
    "def pretrainedEmbeddings(EmbeddingPath):\n",
    "        embedding_index = {}\n",
    "        \n",
    "        with open(EmbeddingPath) as f:\n",
    "            next(iter(f))\n",
    "            embedding_wordsList = []\n",
    "            for line in f:\n",
    "                values = line.split(\" \")\n",
    "                word = values[0]\n",
    "                coefs = np.asarray(values[1:])\n",
    "                embedding_index[word] = coefs\n",
    "                embedding_wordsList.append(word)\n",
    "        \n",
    "        return (embedding_index, embedding_wordsList)\n",
    "\n",
    "def _texts_to_sequences(train_tweets):\n",
    "    \n",
    "    train_sequences = []\n",
    "    for i,tweet in enumerate(train_tweets): \n",
    "        tw = []\n",
    "        for token in tweet.split():\n",
    "            try:\n",
    "                tw.append(Indices[token])\n",
    "            except:\n",
    "                continue\n",
    "        tw.extend([0]*( maxlen-len(tw)) )\n",
    "        train_sequences.append(np.asarray(tw))\n",
    "    return train_sequences\n",
    "\n",
    "def _data_to_lists(dataTrain):    \n",
    "    \n",
    "    train_tweets, train_labels = [], []\n",
    "    print('stacking data to lists')\n",
    "    for i in dataTrain:\n",
    "        scores = []\n",
    "        for score in i[1:]:\n",
    "            if np.isnan(score):\n",
    "                scores.append( 0 )\n",
    "                print('\\tWarning: Nan value present in dataset')\n",
    "            else:\n",
    "                scores.append(score-2)\n",
    "        train_labels.append(scores)\n",
    "        train_tweets.append(i[0])\n",
    "    print('data stacked to lists\\n\\t'+str(len(train_tweets))+' tweets\\n\\t'+str(len(train_labels))+' labels')\n",
    "    return train_tweets, train_labels"
   ]
  },
  {
   "cell_type": "code",
   "execution_count": 8,
   "metadata": {
    "collapsed": false
   },
   "outputs": [
    {
     "name": "stdout",
     "output_type": "stream",
     "text": [
      "we vectors loaded from </home/vlaand/data/Glove/glove.twitter.27B/glove.twitter.27B.100d.txt>\n",
      "\t1193514 entries\n"
     ]
    }
   ],
   "source": [
    "Dictionary, Indices = _load_original_vectors(\n",
    "        filename = '/home/vlaand/data/Glove/glove.twitter.27B/glove.twitter.27B.'+str(EMBEDDINGS_DIM)+'d.txt', \n",
    "        sep = ' ',\n",
    "        wordFrequencies = None)#wordFrequencies) # leave wordFrequencies=None for loading the entire WE file\n",
    "\n",
    "Indices_reversed = {}\n",
    "for key in Indices.keys():\n",
    "    Indices_reversed.update({Indices[key]:key})"
   ]
  },
  {
   "cell_type": "markdown",
   "metadata": {},
   "source": [
    "#### Data conversion to an input to the model"
   ]
  },
  {
   "cell_type": "code",
   "execution_count": 45,
   "metadata": {
    "collapsed": false
   },
   "outputs": [],
   "source": [
    "def dataframe_to_lists(df):\n",
    "\n",
    "    train_tweets, train_labels = [], []\n",
    "\n",
    "    for row in df.iterrows():\n",
    "        train_tweets.append(row[1][1])\n",
    "        train_labels.append(row[1][3])\n",
    "        \n",
    "    return train_tweets, train_labels\n",
    "\n",
    "def lists_to_vectors(train_tweets, train_labels):\n",
    "\n",
    "    train_sequences = _texts_to_sequences(train_tweets)\n",
    "\n",
    "    embedding_matrix = np.zeros((len(Indices)+1, EMBEDDINGS_DIM))\n",
    "\n",
    "    print('matrix created\\n\\t',embedding_matrix.shape)\n",
    "    for (word, i) in Indices.items():\n",
    "        embedding_vector = Dictionary.get(word)\n",
    "        if (embedding_vector != None):\n",
    "            embedding_matrix[i] = embedding_vector.astype(np.float)\n",
    "\n",
    "    _X = sequence.pad_sequences(train_sequences, maxlen=maxlen)\n",
    "    _y = np.array(train_labels)\n",
    "\n",
    "    print(len(_X), 'train sequences loaded')\n",
    "    print('\\t',_X.shape,'\\n\\t', _y.shape)\n",
    "    \n",
    "    return _X, _y, embedding_matrix\n",
    "\n",
    "def _get_maxlen(tweets):\n",
    "    max = 0\n",
    "    for tw in tweets:\n",
    "        if len(tw.split()) > max:\n",
    "            max = len(tw.split())\n",
    "    return max"
   ]
  },
  {
   "cell_type": "markdown",
   "metadata": {},
   "source": [
    "### JUNCTION"
   ]
  },
  {
   "cell_type": "code",
   "execution_count": 118,
   "metadata": {
    "collapsed": false
   },
   "outputs": [
    {
     "name": "stdout",
     "output_type": "stream",
     "text": [
      "sadness\n",
      "max tweet length: 46 tokens\n",
      "all tweets melted into list,  7102\n",
      "7001 12927\n",
      "Populating the interactive namespace from numpy and matplotlib\n"
     ]
    },
    {
     "data": {
      "image/png": "[encoded data removed]",
      "text/plain": [
       "<matplotlib.figure.Figure at 0x7ff30e020048>"
      ]
     },
     "metadata": {},
     "output_type": "display_data"
    }
   ],
   "source": [
    "EMOTION = 3\n",
    "print(emoNames[EMOTION])\n",
    "\n",
    "train_tweets, train_labels = dataframe_to_lists(dfs['train'][emoNames[EMOTION]])\n",
    "dev_tweets, dev_labels = dataframe_to_lists(dfs['dev'][emoNames[EMOTION]])\n",
    "test_tweets, test_labels = dataframe_to_lists(dfs['test'][emoNames[EMOTION]])\n",
    "\n",
    "print(\"max tweet length: %d tokens\" %(_get_maxlen(train_tweets+dev_tweets+test_tweets)) )\n",
    "\n",
    "\n",
    "meltTweets = []\n",
    "# meltTweets.extend(train_tweets)\n",
    "for dataset in ['train','test','dev']:\n",
    "    for emo in emoNames:\n",
    "        try:\n",
    "            meltTweets.extend(dfs[dataset][emo]['tweet'])    \n",
    "        except:\n",
    "            print('KeyError: ',emo)\n",
    "print('all tweets melted into list, ',len(meltTweets))\n",
    "\n",
    "def _get_unique_tokens(tweets):    \n",
    "    return(Counter(token for tweet in tweets for token in tweet.split()))\n",
    "\n",
    "wordFrequencies = _get_unique_tokens(meltTweets) \n",
    "_plot_word_frequencies(wordFrequencies, WORD_FREQUENCY_TRESHOLD = WORD_FREQUENCY_TRESHOLD)"
   ]
  },
  {
   "cell_type": "markdown",
   "metadata": {},
   "source": [
    "### Preparing for SVR"
   ]
  },
  {
   "cell_type": "code",
   "execution_count": 119,
   "metadata": {
    "collapsed": false,
    "scrolled": true
   },
   "outputs": [
    {
     "name": "stdout",
     "output_type": "stream",
     "text": [
      "NGRAM_VALUE = 4\n",
      "860 4763\n",
      "ngramizer saved\t</home/vlaand/IpythonNotebooks/wassa2017/ngramizers/wassa_ngramizer_sadness.dump>\n",
      "ngramizer saved\t</home/vlaand/IpythonNotebooks/05_emotion_wassa_nuig/wassaRegression/ngramizers/ngramizer.sadness.dump>\n"
     ]
    }
   ],
   "source": [
    "from sklearn.feature_extraction.text import CountVectorizer\n",
    "\n",
    "def _save_ngramizer(ngramizer, filename = 'ngramizer.dump'):\n",
    "    checkFolder(filename)\n",
    "    _ = joblib.dump(ngramizer, filename=filename, compress=9)\n",
    "    print('ngramizer saved\\t<'+filename+'>')\n",
    "    \n",
    "def _load_ngramizer(filename = 'ngramizer.dump'):\n",
    "    checkFolder(filename)\n",
    "    ngramizer = joblib.load(filename = filename)\n",
    "    print('ngramizer <'+filename+'> loaded')\n",
    "    return ngramizer\n",
    "\n",
    "NGRAM_VALUE = 4\n",
    "WORD_FREQUENCY_TRESHOLD = 2\n",
    "print('NGRAM_VALUE =',NGRAM_VALUE)\n",
    "    \n",
    "vectorizer = CountVectorizer(ngram_range = (1,NGRAM_VALUE),token_pattern=r'\\b\\w+\\b', min_df=WORD_FREQUENCY_TRESHOLD,max_df=1000)\n",
    "# ngramizer = vectorizer.fit(meltTweets)\n",
    "ngramizer = vectorizer.fit(train_tweets+dev_tweets)\n",
    "\n",
    "vec = ngramizer.transform(train_tweets+dev_tweets).toarray()\n",
    "print(len(vec), len(vec[0]))\n",
    "    \n",
    "_save_ngramizer(ngramizer, filename = '/home/vlaand/IpythonNotebooks/wassa2017/ngramizers/wassa_ngramizer_'+emoNames[EMOTION]+'.dump')\n",
    "_save_ngramizer(ngramizer, filename = '/home/vlaand/IpythonNotebooks/05_emotion_wassa_nuig/wassaRegression/ngramizers/ngramizer.'+emoNames[EMOTION]+'.dump')"
   ]
  },
  {
   "cell_type": "code",
   "execution_count": 112,
   "metadata": {
    "collapsed": false
   },
   "outputs": [
    {
     "data": {
      "image/png": "[encoded data removed]",
      "text/plain": [
       "<matplotlib.figure.Figure at 0x7ff30df78da0>"
      ]
     },
     "metadata": {},
     "output_type": "display_data"
    }
   ],
   "source": [
    "### NGRAM FREQUENCY\n",
    "\n",
    "from natsort import natsorted\n",
    "    \n",
    "train_data_features = vec#X_train_counts.toarray()\n",
    "vocab = ngramizer.get_feature_names()\n",
    "dist = np.sum(train_data_features, axis=0)\n",
    "ngram_freq = {}\n",
    "\n",
    "# For each, print the vocabulary word and the frequency\n",
    "for tag, count in zip(vocab, dist):\n",
    "    #print(tag, count)\n",
    "    ngram_freq[tag]=count\n",
    "\n",
    "semilogy(natsorted(list(ngram_freq.values()),reverse=True))\n",
    "show()"
   ]
  },
  {
   "cell_type": "code",
   "execution_count": 49,
   "metadata": {
    "collapsed": true
   },
   "outputs": [],
   "source": [
    "import numpy as np\n",
    "import math, itertools\n",
    "from scipy import spatial\n",
    "def _vectors_similarity(v1 , v2):\n",
    "    return( 1 - spatial.distance.cosine(v1,v2) )\n",
    "def similarityVector(vector_, vectors_):\n",
    "    resVector = np.asarray([_vectors_similarity(vector_ , v_) for v_ in vectors_])\n",
    "    return np.asarray([np.max(resVector), np.mean(resVector), np.std(resVector), np.min(resVector)])\n",
    "def compareTokenToSentence(leftToken, sentence):\n",
    "    sentence_vectors = []\n",
    "    for token in sentence:\n",
    "        if token in Dictionary:\n",
    "            sentence_vectors.append(Dictionary[token])\n",
    "        else:\n",
    "            token = token.replace('#','')\n",
    "            if token in Dictionary:\n",
    "                sentence_vectors.append(Dictionary[token])\n",
    "    return similarityVector( Dictionary[leftToken], sentence_vectors)  \n",
    "def capitalRatio(tweet):\n",
    "        firstCap, allCap = 0, 0\n",
    "        length = len(tweet)\n",
    "        if length==0:\n",
    "            return np.array([0,0])\n",
    "        for i,token in enumerate(tweet.split()):\n",
    "            if( token.istitle() ):\n",
    "                firstCap += 1\n",
    "            elif( token.isupper() ):\n",
    "                allCap += 1\n",
    "        return np.asarray([firstCap/length,allCap/length]) \n",
    "def tweetToWordVectors(dictionary, tweet, fixedLength=False):\n",
    "    output = []    \n",
    "    if(fixedLength):\n",
    "        for i in range(MAX_SEQUENCE_LENGTH):\n",
    "            output.append(blankVector)\n",
    "        for i,token in enumerate(tweet.split()):\n",
    "            if token in Dictionary:\n",
    "                output[i] = Dictionary[token]                \n",
    "    else:\n",
    "         for i,token in enumerate(tweet.lower().split()):\n",
    "            if token in Dictionary:\n",
    "                output.append(Dictionary[token])\n",
    "            elif token.replace('#','') in Dictionary:\n",
    "                output.append(Dictionary[token.replace('#','')])\n",
    "    return output\n",
    "def ModWordVectors(x, mod=True):\n",
    "    if(len(x) == 0):       \n",
    "        if(mod):\n",
    "            return(np.zeros(EMBEDDINGS_DIM*3, dtype='float32'))\n",
    "        else:\n",
    "            return(np.zeros(EMBEDDINGS_DIM, dtype='float32'))        \n",
    "    m =  np.matrix(x)\n",
    "    if(mod):\n",
    "        xMean = np.array(m.mean(0))[0]\n",
    "        xMin = np.array(m.min(0))[0]\n",
    "        xMax = np.array(m.max(0))[0]\n",
    "        xX = np.concatenate((xMean,xMin,xMax))\n",
    "        return xX\n",
    "    else:\n",
    "        return np.array(m.mean(0))[0]\n",
    "def bindTwoVectors(x0,x1):\n",
    "    return np.array(list(itertools.chain(x0,x1)),dtype='float32') \n",
    "def _bind_vectors(x):\n",
    "    return np.concatenate(x)   \n",
    "def myLog10(vector):\n",
    "    for i,v in enumerate(vector):\n",
    "        if v > 0:\n",
    "            vector[i] = np.log(v)\n",
    "    return vector            \n",
    "def _convert_text_to_vector(tweets,  Dictionary, labels, ngramizer):\n",
    "    _X = []\n",
    "    _y = []\n",
    "    vec = ngramizer.transform(tweets).toarray()\n",
    "    for i, t in enumerate(tweets):\n",
    "        embeddingsVector = ModWordVectors(tweetToWordVectors(Dictionary,tweets[i]))\n",
    "#         capitalRatioVector = capitalRatio(dfs[st][emoNames[EMOTION]][i])\n",
    "        simVector = compareTokenToSentence(leftToken = emoNames[EMOTION], sentence = t)\n",
    "        ngramVector = vec[i]\n",
    "        _X.append( _bind_vectors((ngramVector, embeddingsVector, simVector))  )\n",
    "#         _X.append( _bind_vectors((ngramVector, embeddingsVector))  )\n",
    "        _y.append(labels[i])\n",
    "    return(np.asarray(_X), np.asarray(_y))"
   ]
  },
  {
   "cell_type": "code",
   "execution_count": 120,
   "metadata": {
    "collapsed": false
   },
   "outputs": [
    {
     "name": "stdout",
     "output_type": "stream",
     "text": [
      "chosen emotion: sadness\n",
      "\tdata shape:\t (1533, 5067) (1533,)\n",
      "\tdata shape:\t (673, 5067) (673,)\n"
     ]
    }
   ],
   "source": [
    "print('chosen emotion:', emoNames[EMOTION])\n",
    "\n",
    "svr_X, svr_y = _convert_text_to_vector(\n",
    "    tweets = train_tweets+dev_tweets+test_tweets,\n",
    "    labels = train_labels+dev_labels+test_labels, \n",
    "    Dictionary = Dictionary, \n",
    "    ngramizer = ngramizer)\n",
    "\n",
    "print('\\tdata shape:\\t', svr_X.shape, svr_y.shape)  \n",
    "\n",
    "# svr_X_train, svr_y_train = _convert_text_to_vector(\n",
    "#     tweets = train_tweets,\n",
    "#     labels = train_labels, \n",
    "#     Dictionary = Dictionary, \n",
    "#     ngramizer = ngramizer)\n",
    "\n",
    "# svr_X_dev, svr_y_dev = _convert_text_to_vector(\n",
    "#     tweets = dev_tweets,\n",
    "#     labels = dev_labels, \n",
    "#     Dictionary = Dictionary, \n",
    "#     ngramizer = ngramizer)\n",
    "\n",
    "\n",
    "\n",
    "# print('\\tdata shape:\\t', svr_X_train.shape, svr_y_train.shape)   \n",
    "# print('\\tdata shape:\\t', svr_X_dev.shape, svr_y_dev.shape)  \n",
    "\n",
    "svr_X_test, svr_y_test = _convert_text_to_vector(\n",
    "    tweets = test_tweets,\n",
    "    labels = test_labels, \n",
    "    Dictionary = Dictionary, \n",
    "    ngramizer = ngramizer)\n",
    "\n",
    "print('\\tdata shape:\\t', svr_X_test.shape, svr_y_test.shape)  "
   ]
  },
  {
   "cell_type": "code",
   "execution_count": 81,
   "metadata": {
    "collapsed": true
   },
   "outputs": [],
   "source": [
    "from sklearn.svm import SVR, LinearSVR\n",
    "from sklearn.externals import joblib\n",
    "from sklearn.metrics import f1_score, r2_score\n",
    "from sklearn.model_selection import cross_val_predict, cross_val_score, train_test_split\n",
    "from sklearn.metrics import r2_score, f1_score, classification_report\n",
    "from scipy.stats import pearsonr, spearmanr\n",
    "from collections import Counter\n",
    "from multiprocessing import Pool\n",
    "import warnings"
   ]
  },
  {
   "cell_type": "code",
   "execution_count": 121,
   "metadata": {
    "collapsed": false
   },
   "outputs": [
    {
     "name": "stdout",
     "output_type": "stream",
     "text": [
      "sadness: C=0.001, tol=1e-06, prs=0.768512103566, spr=0.783924038069\n",
      "sadness: C=0.01, tol=1e-06, prs=0.89002147452, spr=0.898344520037\n",
      "sadness: C=0.1, tol=1e-06, prs=0.976007692212, spr=0.980791918245\n",
      "sadness: C=0.001, tol=1e-05, prs=0.768511493916, spr=0.783980371383\n",
      "sadness: C=0.01, tol=1e-05, prs=0.889992879616, spr=0.898229608741\n",
      "sadness: C=0.1, tol=1e-05, prs=0.97601559873, spr=0.980727413548\n",
      "sadness: C=0.001, tol=0.0001, prs=0.768483315002, spr=0.783967316861\n",
      "sadness: C=0.01, tol=0.0001, prs=0.889975530316, spr=0.898141062459\n",
      "sadness: C=0.1, tol=0.0001, prs=0.97599627848, spr=0.980804067023\n",
      "['sadness', 0.97601559873008892, 'LinearSVR', 0.1, 1.0, 0.001, 1e-05, 4, 100]\n"
     ]
    }
   ],
   "source": [
    "warnings.simplefilter('ignore')\n",
    "\n",
    "ESTIMATOR = 'LinearSVR'\n",
    "# ESTIMATOR = 'SVR'\n",
    "cv_folds = 5\n",
    "# NGRAM_VALUE = 4\n",
    "\n",
    "def _greed_search(EMOTION=0):     \n",
    "\n",
    "    list_acc = []    \n",
    "    list_val = []\n",
    "        \n",
    "    if(ESTIMATOR == 'LinearSVR'):                             \n",
    "        epsilon = 0.001\n",
    "        gamma=1.0\n",
    "#         C = 0.01\n",
    "        for tol in [1e-6,1e-5,1e-4]:\n",
    "            for C in [0.001,0.01,0.1]:\n",
    "#                 cvs = cross_val_score(estimator = LinearSVR(C=C, tol=tol), X=X, y=y, cv=cv_folds, n_jobs=cv_folds, scoring='r2') \n",
    "#                 meanScore = np.mean(np.asarray(cvs))\n",
    "    \n",
    "                svcTrained = LinearSVR(C=C, tol=tol) \n",
    "                svcTrained.fit(svr_X, svr_y)\n",
    "\n",
    "                svr_y_test_predict = svcTrained.predict(svr_X_test)\n",
    "                prs = pearsonr(svr_y_test , svr_y_test_predict)[0]\n",
    "                spr = spearmanr(svr_y_test , svr_y_test_predict)[0]\n",
    "                    \n",
    "                list_val.append([emoNames[EMOTION],prs,ESTIMATOR, C, gamma,epsilon,tol,NGRAM_VALUE,EMBEDDINGS_DIM])\n",
    "                list_acc.append(prs)\n",
    "                print(emoNames[EMOTION]+': C='+str(C)+', tol='+str(tol)+', prs='+str(prs)+', spr='+str(spr))      \n",
    "        \n",
    "    elif(ESTIMATOR == 'SVR'):                          \n",
    "        epsilon = 0.001\n",
    "#         C = 1.0\n",
    "#         tol = 1e-6\n",
    "        gamma=0.01\n",
    "        for tol in [1e-5,1e-4]:\n",
    "            for gamma in [0.001,0.01,0.1]:       \n",
    "            \n",
    "                for C in [0.1,1.0]:                    \n",
    "#                     cvs = [0.5,0.5,0.5]\n",
    "#                     cvs = cross_val_score(estimator = SVR(C=C,gamma=gamma, tol=tol), X=X, y=y, cv=cv_folds, n_jobs=cv_folds, scoring='r2') \n",
    "#                     meanScore = np.mean(np.asarray(cvs))\n",
    "                    svcTrained = SVR(C=C, tol=tol,gamma=gamma) \n",
    "                    svcTrained.fit(svr_X, svr_y)\n",
    "\n",
    "                    svr_y_test_predict = svcTrained.predict(svr_X_test)\n",
    "                    prs = pearsonr(svr_y_test , svr_y_test_predict)[0]\n",
    "                    spr = spearmanr(svr_y_test , svr_y_test_predict)[0]\n",
    "\n",
    "                    list_val.append([emoNames[EMOTION],prs, ESTIMATOR, C, gamma,epsilon,tol,NGRAM_VALUE,EMBEDDINGS_DIM])\n",
    "                    list_acc.append(prs)\n",
    "                    print(emoNames[EMOTION]+': C='+str(C)+', gamma='+str(gamma)+', tol='+str(tol)+', prs='+str(prs)+', spr='+str(spr))\n",
    "    \n",
    "    best = np.argmax(list_acc)    \n",
    "    print(list_val[best])\n",
    "    out0 = {\n",
    "        'C':list_val[best][3], \n",
    "        'gamma': list_val[best][4],\n",
    "        'epsilon': list_val[best][5],\n",
    "        'tol': list_val[best][6],\n",
    "        'ngrams': list_val[best][7],\n",
    "        'EMBEDDINGS_DIM': list_val[best][8],\n",
    "        'score': list_val[best][1]\n",
    "    }\n",
    "\n",
    "    return {emoNames[EMOTION]:out0}\n",
    "    \n",
    "def _combine_best_results(pool_output, ESTIMATOR):\n",
    "    new_p = {ESTIMATOR:{}}   \n",
    "    for i in pool_output:\n",
    "        new_p[ESTIMATOR].update(i)\n",
    "        \n",
    "    return new_p            \n",
    "\n",
    "\n",
    "pool_output = [_greed_search(EMOTION)]\n",
    "temp_params = _combine_best_results(pool_output, ESTIMATOR)\n",
    "\n",
    "try:\n",
    "    train_params[ESTIMATOR].update(temp_params[ESTIMATOR])\n",
    "except:\n",
    "    train_params = {}\n",
    "    train_params.update(temp_params)"
   ]
  },
  {
   "cell_type": "code",
   "execution_count": 53,
   "metadata": {
    "collapsed": false
   },
   "outputs": [],
   "source": [
    "train_params = {'LSTM': {'anger': {'nb_epoch': 12},\n",
    "  'fear': {'nb_epoch': 36},\n",
    "  'joy': {'nb_epoch': 8},\n",
    "  'sadness': {'nb_epoch': 18}},\n",
    " 'LinearSVR': {'anger': {'C': 0.1,\n",
    "   'EMBEDDINGS_DIM': 100,\n",
    "   'epsilon': 0.001,\n",
    "   'gamma': 1.0,\n",
    "   'ngrams': 4,\n",
    "   'score': 0.95816165303133261,\n",
    "   'tol': 1e-05},\n",
    "  'fear': {'C': 0.1,\n",
    "   'EMBEDDINGS_DIM': 100,\n",
    "   'epsilon': 0.001,\n",
    "   'gamma': 1.0,\n",
    "   'ngrams': 4,\n",
    "   'score': 0.96097704320011335,\n",
    "   'tol': 1e-05},\n",
    "  'joy': {'C': 0.1,\n",
    "   'EMBEDDINGS_DIM': 100,\n",
    "   'epsilon': 0.001,\n",
    "   'gamma': 1.0,\n",
    "   'ngrams': 4,\n",
    "   'score': 0.96744036403654121,\n",
    "   'tol': 1e-05},\n",
    "  'sadness': {'C': 0.1,\n",
    "   'EMBEDDINGS_DIM': 100,\n",
    "   'epsilon': 0.001,\n",
    "   'gamma': 1.0,\n",
    "   'ngrams': 4,\n",
    "   'score': 0.97601559873008892,\n",
    "   'tol': 1e-05}},\n",
    " 'SVR': {'anger': {'C': 1.0,\n",
    "   'EMBEDDINGS_DIM': 100,\n",
    "   'epsilon': 0.001,\n",
    "   'gamma': 0.01,\n",
    "   'ngrams': 4,\n",
    "   'score': 0.5909199703343438,\n",
    "   'tol': 0.0001},\n",
    "  'fear': {'C': 1.0,\n",
    "   'EMBEDDINGS_DIM': 100,\n",
    "   'epsilon': 0.001,\n",
    "   'gamma': 0.01,\n",
    "   'ngrams': 4,\n",
    "   'score': 0.6669056665602984,\n",
    "   'tol': 0.0001},\n",
    "  'joy': {'C': 1.0,\n",
    "   'EMBEDDINGS_DIM': 100,\n",
    "   'epsilon': 0.001,\n",
    "   'gamma': 0.01,\n",
    "   'ngrams': 4,\n",
    "   'score': 0.6182783505906371,\n",
    "   'tol': 1e-05},\n",
    "  'sadness': {'C': 1.0,\n",
    "   'EMBEDDINGS_DIM': 100,\n",
    "   'epsilon': 0.001,\n",
    "   'gamma': 0.001,\n",
    "   'ngrams': 4,\n",
    "   'score': 0.6839620329687072,\n",
    "   'tol': 1e-05}}}"
   ]
  },
  {
   "cell_type": "code",
   "execution_count": 124,
   "metadata": {
    "collapsed": false
   },
   "outputs": [
    {
     "name": "stdout",
     "output_type": "stream",
     "text": [
      "SVR(C=1.0, cache_size=200, coef0=0.0, degree=3, epsilon=0.001, gamma=0.001,\n",
      "  kernel='rbf', max_iter=-1, shrinking=True, tol=1e-05, verbose=False)\n",
      "'sadness' model saved to </home/vlaand/IpythonNotebooks/wassa2017/classifiers/SVR/sadness.dump>\n",
      "'sadness' model saved to </home/vlaand/IpythonNotebooks/05_emotion_wassa_nuig/wassaRegression/classifiers/SVR/sadness.dump>\n"
     ]
    }
   ],
   "source": [
    "# ESTIMATOR = 'LinearSVR'\n",
    "ESTIMATOR = 'SVR'\n",
    "\n",
    "\n",
    "if ESTIMATOR == 'SVR':\n",
    "    svrTrained = SVR(C=train_params[ESTIMATOR][emoNames[EMOTION]]['C'], \n",
    "                 tol=train_params[ESTIMATOR][emoNames[EMOTION]]['tol'], \n",
    "                 gamma=train_params[ESTIMATOR][emoNames[EMOTION]]['gamma'], \n",
    "                 epsilon=train_params[ESTIMATOR][emoNames[EMOTION]]['epsilon'])\n",
    "    \n",
    "else:\n",
    "    svrTrained = LinearSVR(C=train_params[ESTIMATOR][emoNames[EMOTION]]['C'], \n",
    "                 tol=train_params[ESTIMATOR][emoNames[EMOTION]]['tol'], \n",
    "                 epsilon=train_params[ESTIMATOR][emoNames[EMOTION]]['epsilon'])\n",
    "    \n",
    "svrTrained.fit(svr_X, svr_y)\n",
    "print(svrTrained)\n",
    "\n",
    "       \n",
    "def saveModelFor(model, ESTIMATOR, EMOTION=0, path='/home/vlaand/IpythonNotebooks/wassa2017/'):\n",
    "    path = os.path.join(path,ESTIMATOR)\n",
    "    checkFolder(path)\n",
    "    filename = os.path.join(path,emoNames[EMOTION]+'.dump')\n",
    "    checkFolder(filename)\n",
    "    _ = joblib.dump(model, filename, compress=9)\n",
    "    print(\"'%s' model saved to <%s>\" % (emoNames[EMOTION],filename))\n",
    "    \n",
    "saveModelFor(svrTrained, ESTIMATOR=ESTIMATOR, EMOTION=EMOTION, path = '/home/vlaand/IpythonNotebooks/wassa2017/classifiers/')\n",
    "saveModelFor(svrTrained, ESTIMATOR=ESTIMATOR, EMOTION=EMOTION, path = '/home/vlaand/IpythonNotebooks/05_emotion_wassa_nuig/wassaRegression/classifiers/')"
   ]
  },
  {
   "cell_type": "markdown",
   "metadata": {},
   "source": [
    "### Preparing for LSTM"
   ]
  },
  {
   "cell_type": "code",
   "execution_count": 199,
   "metadata": {
    "collapsed": false
   },
   "outputs": [
    {
     "name": "stdout",
     "output_type": "stream",
     "text": [
      "matrix created\n",
      "\t (1193515, 100)\n",
      "673 train sequences loaded\n",
      "\t (673, 55) \n",
      "\t (673,)\n",
      "matrix created\n",
      "\t (1193515, 100)\n",
      "860 train sequences loaded\n",
      "\t (860, 55) \n",
      "\t (860,)\n"
     ]
    }
   ],
   "source": [
    "# X_train, y_train, embedding_matrix = lists_to_vectors(train_tweets, train_labels)\n",
    "# X_dev, y_dev, embedding_matrix = lists_to_vectors(dev_tweets, dev_labels)\n",
    "X_test, y_test, embedding_matrix = lists_to_vectors(test_tweets, test_labels)\n",
    "\n",
    "# X, y, embedding_matrix = lists_to_vectors(train_tweets+dev_tweets+test_tweets, train_labels+dev_labels+test_labels)\n",
    "X, y, embedding_matrix = lists_to_vectors(train_tweets+dev_tweets, train_labels+dev_labels)"
   ]
  },
  {
   "cell_type": "markdown",
   "metadata": {},
   "source": [
    "## Training on WASSA dataset"
   ]
  },
  {
   "cell_type": "code",
   "execution_count": 200,
   "metadata": {
    "collapsed": true
   },
   "outputs": [],
   "source": [
    "from keras.models import Sequential\n",
    "from keras.layers import Dense\n",
    "from sklearn.model_selection import StratifiedKFold\n",
    "from multiprocessing import Pool, Manager\n",
    "import os\n",
    "import numpy as np\n",
    "\n",
    "import keras.backend as K\n",
    "\n",
    "def matthews_correlation(y_true, y_pred):\n",
    "    y_pred_pos = K.round(K.clip(y_pred, 0, 1))\n",
    "    y_pred_neg = 1 - y_pred_pos\n",
    "\n",
    "    y_pos = K.round(K.clip(y_true, 0, 1))\n",
    "    y_neg = 1 - y_pos\n",
    "\n",
    "    tp = K.sum(y_pos * y_pred_pos)\n",
    "    tn = K.sum(y_neg * y_pred_neg)\n",
    "\n",
    "    fp = K.sum(y_neg * y_pred_pos)\n",
    "    fn = K.sum(y_pos * y_pred_neg)\n",
    "\n",
    "    numerator = (tp * tn - fp * fn)\n",
    "    denominator = K.sqrt((tp + fp) * (tp + fn) * (tn + fp) * (tn + fn))\n",
    "\n",
    "    return numerator / (denominator + K.epsilon())"
   ]
  },
  {
   "cell_type": "code",
   "execution_count": 261,
   "metadata": {
    "collapsed": false
   },
   "outputs": [
    {
     "name": "stdout",
     "output_type": "stream",
     "text": [
      "JOY\n",
      "5 folds, 50 epochs\n",
      "\n",
      "r2_score:\t0.03 (+/- 0.18)\n",
      "pearson:\t0.67 (+/- 0.05)\n",
      "spearman:\t0.65 (+/- 0.05)\n"
     ]
    }
   ],
   "source": [
    "def _cross_validation_parallel(_input):\n",
    "    train, test = _input\n",
    "    \n",
    "    model = Sequential()\n",
    "    model.add(Embedding(len(Indices)+1,  EMBEDDINGS_DIM, weights=[embedding_matrix],\n",
    "                                input_length=maxlen, trainable=True))\n",
    "    model.add(Bidirectional(LSTM(EMBEDDINGS_DIM))) #dropout is same as regularisation\n",
    "    model.add(Dropout(0.2))\n",
    "    model.add(Dense(hidden_dims1, W_regularizer=l2(0.01)), )\n",
    "    model.add(Dense(hidden_dims2, W_regularizer=l2(0.01)), ) #!!!\n",
    "    model.add(Dense(hidden_dims3, activation='softsign'))\n",
    "    model.compile(loss='mean_absolute_error', optimizer='adam', metrics=['accuracy', matthews_correlation])\n",
    "        \n",
    "    model.fit(X[train], y[train], batch_size=batch_size, nb_epoch=nb_epoch, validation_split=None)\n",
    "    \n",
    "#     scores = model.evaluate(X[test], y[test], verbose=0,)\n",
    "    y_test_predict = model.predict(X[test])\n",
    "    y_test_predict = np.reshape(y_test_predict, newshape=(len(y_test_predict),))\n",
    "    \n",
    "    scores =  [r2_score(y_test_predict, y[test]), pearson(y_test_predict, y[test]), spearman(y_test_predict, y[test])]\n",
    "\n",
    "    print(\"%s: %.2f\" % (model.metrics_names[2], scores[1]))\n",
    "    return scores\n",
    "\n",
    "nb_epoch = 10\n",
    "n_splits = 5\n",
    "hidden_dims1 = 50\n",
    "hidden_dims2 = 25\n",
    "hidden_dims3 = 1\n",
    "np.random.seed(1337)\n",
    "\n",
    "# with open('senpy-plugins-development/fivePointRegression/classifiers/LSTM/log.out', \"w\") as log_file:\n",
    "#     log_file.write(str(cvscores)+'\\n')\n",
    "#     log_file.write(\"%.2f (+/- %.2f%%)\" % (np.mean(cvscores), np.std(cvscores)))\n",
    "\n",
    "kfold = StratifiedKFold(n_splits=n_splits, shuffle=True, random_state=1337)\n",
    "\n",
    "with Pool(processes = n_splits) as p:\n",
    "    cvscores = p.map(_cross_validation_parallel, ((train, test) for (train, test) in kfold.split(X, y)))\n",
    "\n",
    "# print(\"%.2f (+/- %.2f)\" % (np.mean(cvscores), np.std(cvscores)))\n",
    "\n",
    "\n",
    "print('%s' % (emoNames[EMOTION].upper()))\n",
    "print('%d folds, %d epochs' % (n_splits,nb_epoch))\n",
    "print()\n",
    "\n",
    "my_metrics = ['r2_score', 'pearson', 'spearman']\n",
    "for func in range(3):\n",
    "    print(\"%s:\\t%.2f (+/- %.2f)\" % (my_metrics[func],np.mean([i[func] for i in cvscores]), np.std([i[func] for i in cvscores])))\n",
    "\n",
    "# p._pool[0].is_alive()"
   ]
  },
  {
   "cell_type": "markdown",
   "metadata": {},
   "source": [
    "## Final Training"
   ]
  },
  {
   "cell_type": "code",
   "execution_count": 50,
   "metadata": {
    "collapsed": false
   },
   "outputs": [],
   "source": [
    "try:\n",
    "    train_params.update(\n",
    "        {'LSTM':{\n",
    "            'anger':{'nb_epoch':12},\n",
    "            'joy':{'nb_epoch':8},\n",
    "            'fear':{'nb_epoch':36},\n",
    "            'sadness':{'nb_epoch':18 }}}\n",
    "    )\n",
    "except:\n",
    "    train_params = {'LSTM':{\n",
    "            'anger':{'nb_epoch':12},\n",
    "            'joy':{'nb_epoch':8},\n",
    "            'fear':{'nb_epoch':36},\n",
    "            'sadness':{'nb_epoch':18 }}}"
   ]
  },
  {
   "cell_type": "code",
   "execution_count": 201,
   "metadata": {
    "collapsed": false
   },
   "outputs": [
    {
     "name": "stdout",
     "output_type": "stream",
     "text": [
      "Epoch 1/18\n",
      "860/860 [==============================] - 34s - loss: 0.1928 - matthews_correlation: 0.0298    \n",
      "Epoch 2/18\n",
      "860/860 [==============================] - 33s - loss: 0.1608 - matthews_correlation: 0.1136    \n",
      "Epoch 3/18\n",
      "860/860 [==============================] - 34s - loss: 0.1498 - matthews_correlation: 0.2615    \n",
      "Epoch 4/18\n",
      "860/860 [==============================] - 33s - loss: 0.1326 - matthews_correlation: 0.3790    \n",
      "Epoch 5/18\n",
      "860/860 [==============================] - 33s - loss: 0.1125 - matthews_correlation: 0.5909    \n",
      "Epoch 6/18\n",
      "860/860 [==============================] - 33s - loss: 0.0957 - matthews_correlation: 0.6692    \n",
      "Epoch 7/18\n",
      "860/860 [==============================] - 34s - loss: 0.0875 - matthews_correlation: 0.7142    \n",
      "Epoch 8/18\n",
      "860/860 [==============================] - 33s - loss: 0.0787 - matthews_correlation: 0.7593    \n",
      "Epoch 9/18\n",
      "860/860 [==============================] - 33s - loss: 0.0729 - matthews_correlation: 0.7834    \n",
      "Epoch 10/18\n",
      "860/860 [==============================] - 34s - loss: 0.0708 - matthews_correlation: 0.7897    \n",
      "Epoch 11/18\n",
      "860/860 [==============================] - 34s - loss: 0.0641 - matthews_correlation: 0.8045    \n",
      "Epoch 12/18\n",
      "860/860 [==============================] - 34s - loss: 0.0609 - matthews_correlation: 0.8185    \n",
      "Epoch 13/18\n",
      "860/860 [==============================] - 33s - loss: 0.0577 - matthews_correlation: 0.8354    \n",
      "Epoch 14/18\n",
      "860/860 [==============================] - 34s - loss: 0.0564 - matthews_correlation: 0.8403    \n",
      "Epoch 15/18\n",
      "860/860 [==============================] - 33s - loss: 0.0545 - matthews_correlation: 0.8618    \n",
      "Epoch 16/18\n",
      "860/860 [==============================] - 34s - loss: 0.0502 - matthews_correlation: 0.8602    \n",
      "Epoch 17/18\n",
      "860/860 [==============================] - 34s - loss: 0.0478 - matthews_correlation: 0.8610    \n",
      "Epoch 18/18\n",
      "860/860 [==============================] - 34s - loss: 0.0460 - matthews_correlation: 0.8614    \n"
     ]
    },
    {
     "data": {
      "text/plain": [
       "<keras.callbacks.History at 0x7f902a5eca90>"
      ]
     },
     "execution_count": 201,
     "metadata": {},
     "output_type": "execute_result"
    }
   ],
   "source": [
    "hidden_dims1 = 50\n",
    "hidden_dims2 = 25\n",
    "hidden_dims3 = 1\n",
    "model = Sequential()\n",
    "model.add(Embedding(len(Indices)+1,  EMBEDDINGS_DIM, weights=[embedding_matrix],\n",
    "                            input_length=maxlen, trainable=True))\n",
    "model.add(Bidirectional(LSTM(EMBEDDINGS_DIM))) #dropout is same as regularisation\n",
    "model.add(Dropout(0.2))\n",
    "model.add(Dense(hidden_dims1, b_regularizer=l2(0.01)), )\n",
    "model.add(Dense(hidden_dims2, b_regularizer=l2(0.01)), ) \n",
    "model.add(Dense(hidden_dims3, activation='softsign'))\n",
    "model.compile(loss='mean_absolute_error', optimizer='adam', metrics=[matthews_correlation])\n",
    "\n",
    "model.fit(X, y, batch_size=batch_size, nb_epoch=train_params['LSTM'][emoNames[EMOTION]]['nb_epoch'],validation_split=None,)"
   ]
  },
  {
   "cell_type": "code",
   "execution_count": 202,
   "metadata": {
    "collapsed": false
   },
   "outputs": [
    {
     "name": "stdout",
     "output_type": "stream",
     "text": [
      "0.328336 0.72836\n",
      " sadness\t0.03\t0.33\t0.27\n",
      "0.204091 0.824076\n",
      " sadness\t0.45\t0.70\t0.69\n"
     ]
    }
   ],
   "source": [
    "# y_t_pred = model.predict(X_dev)\n",
    "\n",
    "y_dev_pred = np.array([y_[0] for y_ in model.predict(X_dev)])\n",
    "print(min(y_dev_pred), max(y_dev_pred))\n",
    "print(\"%8s\\t%.2f\\t%.2f\\t%.2f\" % (emoNames[EMOTION],\n",
    "                                 r2_score(y_dev , y_dev_pred),                                 \n",
    "                                 pearsonr(y_dev , y_dev_pred)[0],\n",
    "                                 spearmanr(y_dev , y_dev_pred)[0]))\n",
    "\n",
    "\n",
    "y_test_pred = np.array([y_[0] for y_ in model.predict(X_test)])\n",
    "print(min(y_test_pred), max(y_test_pred))\n",
    "print(\"%8s\\t%.2f\\t%.2f\\t%.2f\" % (emoNames[EMOTION],\n",
    "                                 r2_score(y_test , y_test_pred),                                 \n",
    "                                 pearsonr(y_test , y_test_pred)[0],\n",
    "                                 spearmanr(y_test , y_test_pred)[0]))"
   ]
  },
  {
   "cell_type": "code",
   "execution_count": 203,
   "metadata": {
    "collapsed": false
   },
   "outputs": [
    {
     "data": {
      "text/plain": [
       "(714, 714, 714)"
      ]
     },
     "execution_count": 203,
     "metadata": {},
     "output_type": "execute_result"
    }
   ],
   "source": [
    "len(svr_y_test_predict), len(y_test_predict), len(mix_y_test_predict)"
   ]
  },
  {
   "cell_type": "code",
   "execution_count": 204,
   "metadata": {
    "collapsed": false
   },
   "outputs": [
    {
     "name": "stdout",
     "output_type": "stream",
     "text": [
      "sadness.svr\t0.43\t0.68\t0.69\n",
      "sadness.lstm\t0.45\t0.70\t0.69\n",
      "sadness.avg\t0.49\t0.73\t0.72\n"
     ]
    }
   ],
   "source": [
    "svr_y_test_predict = svcTrained.predict(svr_X_test)\n",
    "y_test_predict = np.array([y_[0] for y_ in model.predict(X_test)])\n",
    "mix_y_test_predict = np.array([ np.mean([y1,y2]) for y1,y2 in zip(y_test_predict, svr_y_test_predict) ])\n",
    "\n",
    "print(\"%8s\\t%.2f\\t%.2f\\t%.2f\" % (emoNames[EMOTION]+'.svr',\n",
    "                                 r2_score(svr_y_test , svr_y_test_predict),                                 \n",
    "                                 pearsonr(svr_y_test , svr_y_test_predict)[0],\n",
    "                                 spearmanr(svr_y_test , svr_y_test_predict)[0]))\n",
    "print(\"%8s\\t%.2f\\t%.2f\\t%.2f\" % (emoNames[EMOTION]+'.lstm',\n",
    "                                 r2_score(y_test , y_test_predict),                                 \n",
    "                                 pearsonr(y_test , y_test_predict)[0],\n",
    "                                 spearmanr(y_test , y_test_predict)[0]))\n",
    "print(\"%8s\\t%.2f\\t%.2f\\t%.2f\" % (emoNames[EMOTION]+'.avg',\n",
    "                                 r2_score(y_test , mix_y_test_predict),                                 \n",
    "                                 pearsonr(y_test , mix_y_test_predict)[0],\n",
    "                                 spearmanr(y_test , mix_y_test_predict)[0]))\n"
   ]
  },
  {
   "cell_type": "code",
   "execution_count": 206,
   "metadata": {
    "collapsed": false
   },
   "outputs": [
    {
     "name": "stdout",
     "output_type": "stream",
     "text": [
      "Populating the interactive namespace from numpy and matplotlib\n"
     ]
    },
    {
     "data": {
      "image/png": "[encoded data removed]",
      "text/plain": [
       "<matplotlib.figure.Figure at 0x7f9029a0d198>"
      ]
     },
     "metadata": {},
     "output_type": "display_data"
    }
   ],
   "source": [
    "%pylab inline\n",
    "import numpy as np\n",
    "import matplotlib.pyplot as plt\n",
    "import natsort\n",
    "\n",
    "dimension = EMOTION\n",
    "\n",
    "s = y_test#[:, dimension] #y_annotated[dimension]\n",
    "order = sorted(range(len(s)), key=lambda k: s[k])\n",
    "\n",
    "g1 = y_test#[:, dimension]\n",
    "g2 = mix_y_test_predict#[yy[dimension] for yy in y_wassa_test_predict]#[:, dimension]    \n",
    "\n",
    "line_0, = plt.plot(np.array(g1)[order], 'm.',  label='Actual')\n",
    "line_1, = plt.plot(np.array(g2)[order], 'b.', label='Prediction')\n",
    "plt.grid(True)\n",
    "plt.legend(handles=[line_0, line_1])\n",
    "plt.legend(bbox_to_anchor=(1.02, .4, .65, .0), loc=3,ncol=1, mode=\"expand\", borderaxespad=1.0)\n",
    "plt.ylabel('dimension: '+emoNames[dimension])\n",
    "plt.xlabel('tweets')\n",
    "plt.title(\"Model bulit on WASSA corpus\")\n",
    "plt.show()"
   ]
  },
  {
   "cell_type": "raw",
   "metadata": {},
   "source": [
    "                     r2   pearson  spearman\n",
    "anger.svr\t        0.34\t0.60\t0.57\n",
    "anger.lstm\t        0.36\t0.63\t0.61\n",
    "anger.avg\t        0.42\t0.66\t0.63\n",
    "\n",
    "fear.svr\t        0.44\t0.67\t0.63\n",
    "fear.lstm\t        0.45\t0.68\t0.66\n",
    "fear.avg\t        0.49\t0.71\t0.68\n",
    "\n",
    "joy.svr\t            0.36\t0.62\t0.63\n",
    "joy.lstm\t        0.35\t0.59\t0.59\n",
    "joy.avg\t            0.41\t0.65\t0.65\n",
    " \n",
    "sadness.svr\t        0.43\t0.68\t0.69\n",
    "sadness.lstm        0.45\t0.70\t0.69\n",
    "sadness.avg\t        0.49\t0.73\t0.72\n",
    "\n",
    "\n",
    "# hashtags remained\n",
    "anger.svr\t        0.34\t0.59\t0.56\n",
    "anger.lstm\t        0.28\t0.53\t0.51\n",
    "anger.avg\t        0.36\t0.62\t0.59\n",
    "\n",
    "fear.svr\t        0.43\t0.67\t0.63\n",
    "fear.lstm\t        0.30\t0.57\t0.53\n",
    "fear.avg\t        0.44\t0.66\t0.63\n",
    "\n",
    "joy.svr\t            0.36\t0.62\t0.63\n",
    "joy.lstm\t        0.32\t0.58\t0.59\n",
    "joy.avg\t            0.40\t0.64\t0.64\n",
    "\n",
    "sadness.svr\t        0.42\t0.68\t0.69\n",
    "sadness.lstm\t    0.32\t0.59\t0.57\n",
    "sadness.avg\t        0.44\t0.67\t0.66"
   ]
  },
  {
   "cell_type": "code",
   "execution_count": 20,
   "metadata": {
    "collapsed": false
   },
   "outputs": [],
   "source": [
    "from sklearn.metrics import r2_score, f1_score, classification_report\n",
    "# from skll.metrics import pearson, spearman\n",
    "from scipy.stats import pearsonr, spearmanr\n",
    "\n",
    "\n",
    "# print('[%8s]\\tR2\\tpearson\\tspearman' % emoNames[EMOTION])\n",
    "# y_dev_predicts = []\n",
    "# for i in range(20):\n",
    "#     if i>0: \n",
    "#         model.fit(X_train, y_train, batch_size=batch_size, nb_epoch=1,validation_split=None,)\n",
    "#     y_dev_pred = np.array([y_[0] for y_ in model.predict(X_dev)])\n",
    "#     print(\"%8s\\t%.2f\\t%.2f\\t%.2f\" % (i,\n",
    "#                                  r2_score(y_dev , y_dev_pred),                                 \n",
    "#                                  pearsonr(y_dev , y_dev_pred)[0],\n",
    "#                                  spearmanr(y_dev , y_dev_pred)[0]))    \n",
    "#     y_dev_predicts.append(y_dev_pred)\n",
    "\n",
    "\n",
    "# model.fit(X_train, y_train, batch_size=batch_size, nb_epoch=nb_epoch,validation_split=None,)"
   ]
  },
  {
   "cell_type": "code",
   "execution_count": 73,
   "metadata": {
    "collapsed": false
   },
   "outputs": [
    {
     "name": "stdout",
     "output_type": "stream",
     "text": [
      "[ sadness]\tR2\tpearson\tspearman\n",
      "       0\t-0.40\t-0.12\t-0.13\n",
      "       1\t0.07\t0.43\t0.44\n",
      "       2\t0.17\t0.53\t0.54\n",
      "       3\t0.11\t0.46\t0.50\n",
      "       4\t0.21\t0.49\t0.54\n",
      "       5\t0.17\t0.47\t0.49\n",
      "       6\t0.21\t0.48\t0.54\n",
      "       7\t0.11\t0.56\t0.59\n",
      "       8\t0.14\t0.50\t0.56\n",
      "       9\t0.20\t0.49\t0.54\n",
      "      10\t0.10\t0.48\t0.52\n",
      "      11\t0.16\t0.51\t0.54\n",
      "      12\t0.18\t0.50\t0.53\n",
      "      13\t0.15\t0.50\t0.55\n",
      "      14\t0.18\t0.51\t0.53\n",
      "      15\t0.18\t0.51\t0.55\n",
      "      16\t0.19\t0.52\t0.56\n",
      "      17\t0.21\t0.53\t0.54\n",
      "      18\t0.23\t0.54\t0.56\n",
      "      19\t0.17\t0.50\t0.54\n"
     ]
    }
   ],
   "source": [
    "# print('[%8s]\\tR2\\tpearson\\tspearman' % emoNames[EMOTION])\n",
    "# for i,y__ in enumerate(y_dev_predicts):  \n",
    "#         y_test_predict = y__\n",
    "#         print(\"%8s\\t%.2f\\t%.2f\\t%.2f\" % (i,\n",
    "#                                  r2_score(y_dev , y_test_predict),                                 \n",
    "#                                  pearsonr(y_dev , y_test_predict)[0],\n",
    "#                                  spearmanr(y_dev , y_test_predict)[0]))"
   ]
  },
  {
   "cell_type": "code",
   "execution_count": 48,
   "metadata": {
    "collapsed": false
   },
   "outputs": [
    {
     "name": "stdout",
     "output_type": "stream",
     "text": [
      "Populating the interactive namespace from numpy and matplotlib\n"
     ]
    },
    {
     "name": "stderr",
     "output_type": "stream",
     "text": [
      "/home/vlaand/anaconda3/lib/python3.5/site-packages/IPython/core/magics/pylab.py:161: UserWarning: pylab import has clobbered these variables: ['dist']\n",
      "`%matplotlib` prevents importing * from pylab and numpy\n",
      "  \"\\n`%matplotlib` prevents importing * from pylab and numpy\"\n"
     ]
    },
    {
     "data": {
      "image/png": "[encoded data removed]",
      "text/plain": [
       "<matplotlib.figure.Figure at 0x7ff019211240>"
      ]
     },
     "metadata": {},
     "output_type": "display_data"
    }
   ],
   "source": [
    "%pylab inline\n",
    "import numpy as np\n",
    "import matplotlib.pyplot as plt\n",
    "import natsort\n",
    "\n",
    "dimension = EMOTION\n",
    "\n",
    "s = y_dev#[:, dimension] #y_annotated[dimension]\n",
    "order = sorted(range(len(s)), key=lambda k: s[k])\n",
    "\n",
    "g1 = y_dev#[:, dimension]\n",
    "g2 = y_dev_pred#[yy[dimension] for yy in y_wassa_test_predict]#[:, dimension]    \n",
    "\n",
    "line_0, = plt.plot(np.array(g1)[order], 'm.',  label='Actual')\n",
    "line_1, = plt.plot(np.array(g2)[order], 'b.', label='Prediction')\n",
    "plt.grid(True)\n",
    "plt.legend(handles=[line_0, line_1])\n",
    "plt.legend(bbox_to_anchor=(1.02, .4, .65, .0), loc=3,ncol=1, mode=\"expand\", borderaxespad=1.0)\n",
    "plt.ylabel('dimension: '+emoNames[dimension])\n",
    "plt.xlabel('tweets')\n",
    "plt.title(\"Model bulit on WASSA corpus\")\n",
    "plt.show()"
   ]
  },
  {
   "cell_type": "markdown",
   "metadata": {},
   "source": [
    "#### Method 1 (save architecture and weights separately)"
   ]
  },
  {
   "cell_type": "code",
   "execution_count": 49,
   "metadata": {
    "collapsed": false
   },
   "outputs": [
    {
     "name": "stdout",
     "output_type": "stream",
     "text": [
      "</home/vlaand/IpythonNotebooks/05_emotion_wassa_nuig/wassaRegression/classifiers/LSTM/wassaRegression.sadness.json> \n",
      "</home/vlaand/IpythonNotebooks/05_emotion_wassa_nuig/wassaRegression/classifiers/LSTM/wassaRegression.sadness.h5> \n",
      "</home/vlaand/IpythonNotebooks/wassa2017/classifiers/LSTM/wassaRegression.sadness.json> \n",
      "</home/vlaand/IpythonNotebooks/wassa2017/classifiers/LSTM/wassaRegression.sadness.h5> \n"
     ]
    },
    {
     "data": {
      "text/plain": [
       "'sadness'"
      ]
     },
     "execution_count": 49,
     "metadata": {},
     "output_type": "execute_result"
    }
   ],
   "source": [
    "def _save_model_wassa(model, savePath, emo, modelName):\n",
    "    if emo == None:\n",
    "        savePath = os.path.join(savePath,modelName)\n",
    "    else:\n",
    "        savePath = os.path.join(savePath,modelName)+\".\"+emo\n",
    "        \n",
    "    model_json = model.to_json()\n",
    "    with open(savePath + \".json\", \"w\") as json_file:\n",
    "        json_file.write(model_json)\n",
    "        print(\"<%s.json> \" % (savePath))\n",
    "        \n",
    "    model.save_weights(savePath +\".h5\", overwrite=True)\n",
    "    print(\"<%s.h5> \" % (savePath))\n",
    "    \n",
    "#     model.save(savePath + \"_.h5\")\n",
    "    \n",
    "# savePath = \"/home/vlaand/IpythonNotebooks/senpy-plugins-NUIG/fivePointRegression/classifiers/LSTM/\"\n",
    "savePath = \"/home/vlaand/IpythonNotebooks/05_emotion_wassa_nuig/wassaRegression/classifiers/LSTM/\"\n",
    "\n",
    "_save_model_wassa(model=model, savePath=savePath, emo=emoNames[EMOTION], modelName=\"wassaRegression\")\n",
    "_save_model_wassa(model=model, savePath='/home/vlaand/IpythonNotebooks/wassa2017/classifiers/LSTM/', emo=emoNames[EMOTION], modelName=\"wassaRegression\")\n",
    "\n",
    "emoNames[EMOTION]"
   ]
  },
  {
   "cell_type": "code",
   "execution_count": 359,
   "metadata": {
    "collapsed": false
   },
   "outputs": [
    {
     "name": "stdout",
     "output_type": "stream",
     "text": [
      "</home/vlaand/IpythonNotebooks/wassa2017/classifiers/LSTM/wassaRegression.anger.json> loaded\n",
      "</home/vlaand/IpythonNotebooks/wassa2017/classifiers/LSTM/wassaRegression.anger.h5> weights loaded\n"
     ]
    }
   ],
   "source": [
    "from keras.models import model_from_json\n",
    "\n",
    "with open('/home/vlaand/IpythonNotebooks/wassa2017/classifiers/LSTM/wassaRegression.'+emoNames[EMOTION]+'.json', 'r') as json_file:\n",
    "    loaded_model = model_from_json(json_file.read())\n",
    "    loaded_model.load_weights(json_file.name.replace('.json','.h5'))\n",
    "    print('<%s> loaded' %(json_file.name))\n",
    "    print('<%s> weights loaded' % (json_file.name.replace('.json','.h5')))"
   ]
  }
 ],
 "metadata": {
  "anaconda-cloud": {},
  "kernelspec": {
   "display_name": "Python [conda root]",
   "language": "python",
   "name": "conda-root-py"
  },
  "language_info": {
   "codemirror_mode": {
    "name": "ipython",
    "version": 3
   },
   "file_extension": ".py",
   "mimetype": "text/x-python",
   "name": "python",
   "nbconvert_exporter": "python",
   "pygments_lexer": "ipython3",
   "version": "3.5.2"
  }
 },
 "nbformat": 4,
 "nbformat_minor": 0
}
